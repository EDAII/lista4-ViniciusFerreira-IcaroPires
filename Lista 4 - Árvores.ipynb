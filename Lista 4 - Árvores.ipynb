{
 "cells": [
  {
   "cell_type": "markdown",
   "metadata": {},
   "source": [
    "# Lista 4 - Árvores - EDAII\n",
    "#### Alunos: Ícaro Pires (15/0129815) e Vinicius Bernardo (15/0151331)"
   ]
  },
  {
   "cell_type": "markdown",
   "metadata": {},
   "source": [
    "## Descrição\n",
    "\n",
    "Abaixo é utilizada uma árvore AVL para mostrar o índice de violência de todas as cidades disponíveis no site do governo. Depois são buscadas cidades aleatórias na árvore o tempo das buscas é calculado para ilustrar a velocidade de busca numa árvore bem balanceada.\n",
    "\n",
    "Também é gerada uma ilustração da árvore para que possa-se checar os resultados e observar como a árvore está bem estruturada."
   ]
  },
  {
   "cell_type": "markdown",
   "metadata": {},
   "source": [
    "### Leitura do Dataset"
   ]
  },
  {
   "cell_type": "code",
   "execution_count": 1,
   "metadata": {},
   "outputs": [],
   "source": [
    "import pandas as pd\n",
    "police_reports_df = pd.read_csv('ocorrencias/ocorrencias_2017_2004.csv', sep=';', encoding='latin-1', dtype={'Código IBGE Município': pd.np.str})"
   ]
  },
  {
   "cell_type": "code",
   "execution_count": 2,
   "metadata": {},
   "outputs": [],
   "source": [
    "import numpy as np\n",
    "\n",
    "all_county = np.array(police_reports_df['Município'].unique())\n",
    "\n",
    "def calculate_violence(row):\n",
    "    weight_crimes = {\n",
    "        'Estupro': 9,\n",
    "        'Furto de veículo': 3,\n",
    "        'Homicídio doloso': 8,\n",
    "        'Roubo de veículo': 5,\n",
    "        'Roubo seguido de morte (latrocínio)': 10,\n",
    "        'Lesão corporal seguida de morte': 7\n",
    "    }\n",
    "    \n",
    "    return weight_crimes[row['Tipo Crime']] * float(row['PC-Qtde Ocorrências'])\n",
    "\n",
    "police_reports_df['Indice Violencia'] = police_reports_df.apply(calculate_violence, axis=1)\n",
    "\n",
    "tuples = []\n",
    "for county in all_county:\n",
    "    records = police_reports_df.loc[police_reports_df['Município'] == county]\n",
    "    tuples += [(records['Indice Violencia'].sum(), county)]"
   ]
  },
  {
   "cell_type": "code",
   "execution_count": 3,
   "metadata": {},
   "outputs": [
    {
     "data": {
      "text/plain": [
       "True"
      ]
     },
     "execution_count": 3,
     "metadata": {},
     "output_type": "execute_result"
    }
   ],
   "source": [
    "import pydotplus\n",
    "import avltree\n",
    "from IPython.display import Image\n",
    "\n",
    "graph = pydotplus.Dot(graph_type='digraph')\n",
    "\n",
    "tree = avltree.avltree()\n",
    "\n",
    "for i in tuples:\n",
    "    tree.insert(i)\n",
    "    \n",
    "def get_city_str(node):\n",
    "    return f'{str(node.index[1])}: {str(node.index[0])}'\n",
    "    \n",
    "def build_graph(root):\n",
    "    if root.child[0]:\n",
    "        edge = pydotplus.Edge(get_city_str(root), get_city_str(root.child[0]))\n",
    "        graph.add_edge(edge)\n",
    "        build_graph(root.child[0])\n",
    "    \n",
    "    if root.child[1]:\n",
    "        edge = pydotplus.Edge(get_city_str(root), get_city_str(root.child[1]))\n",
    "        graph.add_edge(edge)\n",
    "        build_graph(root.child[1])\n",
    "        \n",
    "build_graph(tree.root)\n",
    "graph.write_pdf('arvore_gigante.pdf')"
   ]
  },
  {
   "cell_type": "code",
   "execution_count": 4,
   "metadata": {},
   "outputs": [
    {
     "name": "stdout",
     "output_type": "stream",
     "text": [
      "As cidades escolhidas foram: Ananás, Ariranha Do Ivaí, Jaru, Santa Helena De Goiás, Acará, Monte Castelo, Garanhuns, Jussara, Piquerobi, Caxambu Do Sul, Caputira, Armação Dos Búzios, Selvíria, Feliz Natal, Ipuã, Araioses, Heitoraí, Gandu, Coromandel, Sousa, São Sebastião Do Rio Preto, Tangará, Orobó, Carpina, Ipecaetá, Paiçandu, Candelária, Rio Brilhante, São João De Iracema, Ariquemes, Araucaria, Itaú De Minas, Sumé, Goiatuba, São João Nepomuceno, Cristalina, Pindobaçu, Tavares, Entre Rios, Bocaiúva, Quixabeira, Lamim, Itapuã Do Oeste, Coroaci, São Bento, Mogi Guacu, Marabá Paulista, Bandeirantes, Votuporanga, Goiandira, Bebedouro, Machados, Ponto Dos Volantes, Vidal Ramos, Palmitinho, Aporá, Milagres Do Maranhão, Santa Cruz Da Baixa Verde, São José Dos Pinhais, Santo Augusto, Guaratingueta, Anguera, São Vicente Ferrer, Nova Esperança Do Piriá, Cunhataí, Ingazeira, Feliz Deserto, Lavras Do Sul, Coroaci, Francisco Badaró, Inhuma, Juarez Távora, Currais, Palmeirândia, Sananduva, Mococa, Silves, Jandaíra, Logradouro, Central Do Maranhão, São Domingos Do Araguaia, Conceição Das Alagoas, Raposa, Ipê, Peruíbe, Guidoval, Quadra, Igarapé-Açu, Chuí, Baía Da Traição, João Monlevade, Estrela Do Sul, Umbuzeiro, Caeté, Antônio Gonçalves, Itabirito, Doutor Camargo, Rafael Jambeiro, Oliveira, Victor Graeff.\n",
      "\n",
      "E o tempo levado foi 0.004684434999944642.\n"
     ]
    }
   ],
   "source": [
    "import random\n",
    "from timeit import default_timer as timer\n",
    "\n",
    "some_cities = [random.choice(tuples) for i in range(100)]\n",
    "\n",
    "result = []\n",
    "start_time = timer()\n",
    "for city in some_cities:\n",
    "    result += [tree.find_node(city).index[1]]\n",
    "end_time = timer()\n",
    "total_time = end_time - start_time\n",
    "\n",
    "print('As cidades escolhidas foram: {}.\\n\\nE o tempo levado foi {}.'.format(', '.join(result), total_time))"
   ]
  },
  {
   "cell_type": "markdown",
   "metadata": {},
   "source": [
    "## Referências\n",
    "\n",
    "\n",
    "Dados: http://dados.gov.br/dataset/sistema-nacional-de-estatisticas-de-seguranca-publica\n",
    "\n",
    "Implementação da árvore AVL: https://github.com/SamYaple/avltree-python"
   ]
  }
 ],
 "metadata": {
  "kernelspec": {
   "display_name": "Python 3",
   "language": "python",
   "name": "python3"
  },
  "language_info": {
   "codemirror_mode": {
    "name": "ipython",
    "version": 3
   },
   "file_extension": ".py",
   "mimetype": "text/x-python",
   "name": "python",
   "nbconvert_exporter": "python",
   "pygments_lexer": "ipython3",
   "version": "3.7.0"
  }
 },
 "nbformat": 4,
 "nbformat_minor": 2
}
